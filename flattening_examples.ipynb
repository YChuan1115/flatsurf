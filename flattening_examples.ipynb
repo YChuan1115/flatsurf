{
 "cells": [
  {
   "cell_type": "code",
   "execution_count": 37,
   "metadata": {
    "collapsed": false
   },
   "outputs": [
    {
     "name": "stdout",
     "output_type": "stream",
     "text": [
      "The autoreload extension is already loaded. To reload it, use:\n",
      "  %reload_ext autoreload\n"
     ]
    },
    {
     "data": {
      "text/html": [
       "<script>requirejs.config({paths: { 'plotly': ['https://cdn.plot.ly/plotly-latest.min']},});if(!window.Plotly) {{require(['plotly'],function(plotly) {window.Plotly=plotly;});}}</script>"
      ],
      "text/plain": [
       "<IPython.core.display.HTML object>"
      ]
     },
     "metadata": {},
     "output_type": "display_data"
    }
   ],
   "source": [
    "%load_ext autoreload\n",
    "%autoreload 2\n",
    "import flatsurf.halfedge as halfedge\n",
    "import flatsurf.mccartney1999 as mc1999\n",
    "import flatsurf.vis_utils as vis_utils\n",
    "\n",
    "from plotly.offline import download_plotlyjs, init_notebook_mode, plot, iplot\n",
    "\n",
    "import numpy as np\n",
    "\n",
    "import plotly.plotly as py\n",
    "from plotly.graph_objs import *\n",
    "\n",
    "from scipy.spatial import Delaunay\n",
    "\n",
    "init_notebook_mode(connected=True)"
   ]
  },
  {
   "cell_type": "code",
   "execution_count": 38,
   "metadata": {
    "collapsed": false
   },
   "outputs": [],
   "source": [
    "coords = [np.array([0., 0., 0.]), np.array([1., 1., 0.]),\n",
    "          np.array([0.5 - 0.5 / np.sqrt(2), 0.5 + 0.5 / np.sqrt(2), 0.5]), \n",
    "          np.array([0.5 + 0.5 / np.sqrt(2), 0.5 - 0.5 / np.sqrt(2), 0.5])]\n",
    "simplices = [[0, 1, 2], [0, 1, 3]]"
   ]
  },
  {
   "cell_type": "code",
   "execution_count": 39,
   "metadata": {
    "collapsed": false
   },
   "outputs": [
    {
     "data": {
      "text/html": [
       "<div id=\"375dbf73-55a8-4bf3-8896-2f2dba042419\" style=\"height: 500px; width: 500px;\" class=\"plotly-graph-div\"></div><script type=\"text/javascript\">require([\"plotly\"], function(Plotly) { window.PLOTLYENV=window.PLOTLYENV || {};window.PLOTLYENV.BASE_URL=\"https://plot.ly\";Plotly.newPlot(\"375dbf73-55a8-4bf3-8896-2f2dba042419\", [{\"text\": [\"0\", \"1\", \"2\", \"3\"], \"mode\": \"text\", \"y\": [0.0, 1.0, 0.8535533905932737, 0.14644660940672627], \"x\": [0.0, 1.0, 0.14644660940672627, 0.8535533905932737], \"z\": [0.0, 0.0, 0.5, 0.5], \"type\": \"scatter3d\"}, {\"i\": [0, 0], \"k\": [2, 3], \"j\": [1, 1], \"y\": [0.0, 1.0, 0.8535533905932737, 0.14644660940672627], \"x\": [0.0, 1.0, 0.14644660940672627, 0.8535533905932737], \"z\": [0.0, 0.0, 0.5, 0.5], \"type\": \"mesh3d\"}, {\"mode\": \"lines\", \"y\": [0.0, 1.0], \"x\": [0.0, 1.0], \"line\": {\"color\": \"rgb(50,50,50)\", \"width\": 1.5}, \"z\": [0.0, 0.0], \"type\": \"scatter3d\"}, {\"mode\": \"lines\", \"y\": [1.0, 0.8535533905932737], \"x\": [1.0, 0.14644660940672627], \"line\": {\"color\": \"rgb(50,50,50)\", \"width\": 1.5}, \"z\": [0.0, 0.5], \"type\": \"scatter3d\"}, {\"mode\": \"lines\", \"y\": [0.0, 0.14644660940672627], \"x\": [0.0, 0.8535533905932737], \"line\": {\"color\": \"rgb(50,50,50)\", \"width\": 1.5}, \"z\": [0.0, 0.5], \"type\": \"scatter3d\"}, {\"mode\": \"lines\", \"y\": [1.0, 0.14644660940672627], \"x\": [1.0, 0.8535533905932737], \"line\": {\"color\": \"rgb(50,50,50)\", \"width\": 1.5}, \"z\": [0.0, 0.5], \"type\": \"scatter3d\"}, {\"mode\": \"lines\", \"y\": [0.0, 0.8535533905932737], \"x\": [0.0, 0.14644660940672627], \"line\": {\"color\": \"rgb(50,50,50)\", \"width\": 1.5}, \"z\": [0.0, 0.5], \"type\": \"scatter3d\"}], {\"width\": 500, \"showlegend\": false, \"scene\": {\"aspectratio\": {\"y\": 1, \"x\": 1, \"z\": 0.5}, \"zaxis\": {\"zerolinecolor\": \"rgb(255, 255, 255)\", \"gridcolor\": \"rgb(255, 255, 255)\", \"showbackground\": true, \"backgroundcolor\": \"rgb(230, 230,230)\"}, \"xaxis\": {\"zerolinecolor\": \"rgb(255, 255, 255)\", \"gridcolor\": \"rgb(255, 255, 255)\", \"showbackground\": true, \"backgroundcolor\": \"rgb(230, 230,230)\"}, \"yaxis\": {\"zerolinecolor\": \"rgb(255, 255, 255)\", \"gridcolor\": \"rgb(255, 255, 255)\", \"showbackground\": true, \"backgroundcolor\": \"rgb(230, 230,230)\"}}, \"height\": 500}, {\"linkText\": \"Export to plot.ly\", \"showLink\": true})});</script>"
      ],
      "text/plain": [
       "<IPython.core.display.HTML object>"
      ]
     },
     "metadata": {},
     "output_type": "display_data"
    }
   ],
   "source": [
    "data1 = vis_utils.plotly_trisurf_3d(coords, simplices)\n",
    "fig1 = Figure(data=data1, layout=vis_utils.DEFAULT_LAYOUT)\n",
    "iplot(fig1, filename='coord_simplex_triangulation')"
   ]
  },
  {
   "cell_type": "code",
   "execution_count": 40,
   "metadata": {
    "collapsed": false
   },
   "outputs": [],
   "source": [
    "triangulation = halfedge.HalfEdgeTriangulation.from_coords_and_simplices(coords, simplices)\n",
    "flat_trig = mc1999.McCartney1999Flattening(triangulation, Et=1e-4, delta=1e-5)\n",
    "flat_trig.flatten()\n",
    "coords_2d = [np.concatenate([vertex.coord_2d, [0.0]]) for vertex in triangulation.vertices]"
   ]
  },
  {
   "cell_type": "code",
   "execution_count": 41,
   "metadata": {
    "collapsed": false
   },
   "outputs": [
    {
     "data": {
      "text/html": [
       "<iframe id=\"igraph\" scrolling=\"no\" style=\"border:none;\" seamless=\"seamless\" src=\"https://plot.ly/~blondegeek/8.embed\" height=\"500px\" width=\"500px\"></iframe>"
      ],
      "text/plain": [
       "<plotly.tools.PlotlyDisplay object>"
      ]
     },
     "execution_count": 41,
     "metadata": {},
     "output_type": "execute_result"
    }
   ],
   "source": [
    "data2 = vis_utils.plotly_trisurf_3d(coords_2d, simplices)\n",
    "fig2 = Figure(data=data2, layout=vis_utils.DEFAULT_LAYOUT)\n",
    "py.iplot(fig2, filename='coord_simplex_triangulation_2d')"
   ]
  },
  {
   "cell_type": "code",
   "execution_count": 42,
   "metadata": {
    "collapsed": true
   },
   "outputs": [],
   "source": [
    "u = np.linspace(0, np.pi, 4)\n",
    "v = np.linspace(0, np.pi/2.-1e-4, 3)\n",
    "\n",
    "u,v = np.meshgrid(u,v)\n",
    "u = u.flatten()\n",
    "v = v.flatten()\n",
    "\n",
    "x = np.cos(u)*np.cos(v)\n",
    "y = np.sin(u)*np.cos(v)\n",
    "z = np.sin(v)\n",
    "\n",
    "points2D = np.vstack([u,v]).T\n",
    "tri = Delaunay(points2D)"
   ]
  },
  {
   "cell_type": "code",
   "execution_count": 43,
   "metadata": {
    "collapsed": false
   },
   "outputs": [
    {
     "name": "stdout",
     "output_type": "stream",
     "text": [
      "12\n"
     ]
    }
   ],
   "source": [
    "coords = list(np.array(zip(x, y, z)))\n",
    "simplices = tri.simplices.tolist()\n",
    "print len(simplices)"
   ]
  },
  {
   "cell_type": "code",
   "execution_count": 44,
   "metadata": {
    "collapsed": false
   },
   "outputs": [
    {
     "data": {
      "text/html": [
       "<iframe id=\"igraph\" scrolling=\"no\" style=\"border:none;\" seamless=\"seamless\" src=\"https://plot.ly/~blondegeek/6.embed\" height=\"500px\" width=\"500px\"></iframe>"
      ],
      "text/plain": [
       "<plotly.tools.PlotlyDisplay object>"
      ]
     },
     "execution_count": 44,
     "metadata": {},
     "output_type": "execute_result"
    }
   ],
   "source": [
    "data3 = vis_utils.plotly_trisurf_3d(coords, simplices)\n",
    "fig3 = Figure(data=data3, layout=vis_utils.DEFAULT_LAYOUT)\n",
    "py.iplot(fig3, filename='coord_simplex_triangulation')"
   ]
  },
  {
   "cell_type": "code",
   "execution_count": 45,
   "metadata": {
    "collapsed": false
   },
   "outputs": [
    {
     "ename": "TypeError",
     "evalue": "'NoneType' object has no attribute '__getitem__'",
     "output_type": "error",
     "traceback": [
      "\u001b[0;31m---------------------------------------------------------------------------\u001b[0m",
      "\u001b[0;31mTypeError\u001b[0m                                 Traceback (most recent call last)",
      "\u001b[0;32m<ipython-input-45-1b932e0c34c0>\u001b[0m in \u001b[0;36m<module>\u001b[0;34m()\u001b[0m\n\u001b[1;32m      1\u001b[0m \u001b[0mtriangulation\u001b[0m \u001b[0;34m=\u001b[0m \u001b[0mhalfedge\u001b[0m\u001b[0;34m.\u001b[0m\u001b[0mHalfEdgeTriangulation\u001b[0m\u001b[0;34m.\u001b[0m\u001b[0mfrom_coords_and_simplices\u001b[0m\u001b[0;34m(\u001b[0m\u001b[0mcoords\u001b[0m\u001b[0;34m,\u001b[0m \u001b[0msimplices\u001b[0m\u001b[0;34m)\u001b[0m\u001b[0;34m\u001b[0m\u001b[0m\n\u001b[1;32m      2\u001b[0m \u001b[0mflat_trig\u001b[0m \u001b[0;34m=\u001b[0m \u001b[0mmc1999\u001b[0m\u001b[0;34m.\u001b[0m\u001b[0mMcCartney1999Flattening\u001b[0m\u001b[0;34m(\u001b[0m\u001b[0mtriangulation\u001b[0m\u001b[0;34m,\u001b[0m \u001b[0mEt\u001b[0m\u001b[0;34m=\u001b[0m\u001b[0;36m1e-2\u001b[0m\u001b[0;34m,\u001b[0m \u001b[0mdelta\u001b[0m\u001b[0;34m=\u001b[0m\u001b[0;36m1e-4\u001b[0m\u001b[0;34m)\u001b[0m\u001b[0;34m\u001b[0m\u001b[0m\n\u001b[0;32m----> 3\u001b[0;31m \u001b[0mflat_trig\u001b[0m\u001b[0;34m.\u001b[0m\u001b[0mflatten\u001b[0m\u001b[0;34m(\u001b[0m\u001b[0;34m)\u001b[0m\u001b[0;34m\u001b[0m\u001b[0m\n\u001b[0m\u001b[1;32m      4\u001b[0m \u001b[0mcoords_2d\u001b[0m \u001b[0;34m=\u001b[0m \u001b[0;34m[\u001b[0m\u001b[0mnp\u001b[0m\u001b[0;34m.\u001b[0m\u001b[0mconcatenate\u001b[0m\u001b[0;34m(\u001b[0m\u001b[0;34m[\u001b[0m\u001b[0mvertex\u001b[0m\u001b[0;34m.\u001b[0m\u001b[0mcoord_2d\u001b[0m\u001b[0;34m,\u001b[0m \u001b[0;34m[\u001b[0m\u001b[0;36m0.0\u001b[0m\u001b[0;34m]\u001b[0m\u001b[0;34m]\u001b[0m\u001b[0;34m)\u001b[0m \u001b[0;32mfor\u001b[0m \u001b[0mvertex\u001b[0m \u001b[0;32min\u001b[0m \u001b[0mtriangulation\u001b[0m\u001b[0;34m.\u001b[0m\u001b[0mvertices\u001b[0m\u001b[0;34m]\u001b[0m\u001b[0;34m\u001b[0m\u001b[0m\n",
      "\u001b[0;32m/Users/tesssmidt/Dropbox/flatten_triangulations/env/src/flatsurf/flatsurf/mccartney1999.pyc\u001b[0m in \u001b[0;36mflatten\u001b[0;34m(self)\u001b[0m\n\u001b[1;32m    127\u001b[0m             \u001b[0;32mif\u001b[0m \u001b[0mface\u001b[0m\u001b[0;34m.\u001b[0m\u001b[0mboundary\u001b[0m \u001b[0;34m==\u001b[0m \u001b[0mTrue\u001b[0m\u001b[0;34m:\u001b[0m\u001b[0;34m\u001b[0m\u001b[0m\n\u001b[1;32m    128\u001b[0m                 \u001b[0;32mcontinue\u001b[0m\u001b[0;34m\u001b[0m\u001b[0m\n\u001b[0;32m--> 129\u001b[0;31m             \u001b[0mself\u001b[0m\u001b[0;34m.\u001b[0m\u001b[0mflatten_face\u001b[0m\u001b[0;34m(\u001b[0m\u001b[0mface\u001b[0m\u001b[0;34m)\u001b[0m\u001b[0;34m\u001b[0m\u001b[0m\n\u001b[0m\u001b[1;32m    130\u001b[0m             \u001b[0mshared\u001b[0m \u001b[0;34m=\u001b[0m \u001b[0mface\u001b[0m\u001b[0;34m.\u001b[0m\u001b[0mget_adjacent_faces\u001b[0m\u001b[0;34m(\u001b[0m\u001b[0;34m)\u001b[0m\u001b[0;34m\u001b[0m\u001b[0m\n\u001b[1;32m    131\u001b[0m             \u001b[0;31m# Should this be a set to ensure no duplicates?\u001b[0m\u001b[0;34m\u001b[0m\u001b[0;34m\u001b[0m\u001b[0m\n",
      "\u001b[0;32m/Users/tesssmidt/Dropbox/flatten_triangulations/env/src/flatsurf/flatsurf/mccartney1999.pyc\u001b[0m in \u001b[0;36mflatten_face\u001b[0;34m(self, face)\u001b[0m\n\u001b[1;32m     68\u001b[0m             \u001b[0;31m# Should return two solutions, taking first by convention\u001b[0m\u001b[0;34m\u001b[0m\u001b[0;34m\u001b[0m\u001b[0m\n\u001b[1;32m     69\u001b[0m             \u001b[0;31m# Also should error handle if something goes wrong\u001b[0m\u001b[0;34m\u001b[0m\u001b[0;34m\u001b[0m\u001b[0m\n\u001b[0;32m---> 70\u001b[0;31m             \u001b[0mv\u001b[0m\u001b[0;34m[\u001b[0m\u001b[0mi\u001b[0m\u001b[0;34m]\u001b[0m\u001b[0;34m.\u001b[0m\u001b[0mcoord_2d_orig\u001b[0m \u001b[0;34m=\u001b[0m \u001b[0mthird_coord\u001b[0m\u001b[0;34m[\u001b[0m\u001b[0;36m0\u001b[0m\u001b[0;34m]\u001b[0m\u001b[0;34m\u001b[0m\u001b[0m\n\u001b[0m\u001b[1;32m     71\u001b[0m \u001b[0;34m\u001b[0m\u001b[0m\n\u001b[1;32m     72\u001b[0m         \u001b[0;31m# Case 3: All vertices flattened.\u001b[0m\u001b[0;34m\u001b[0m\u001b[0;34m\u001b[0m\u001b[0m\n",
      "\u001b[0;31mTypeError\u001b[0m: 'NoneType' object has no attribute '__getitem__'"
     ]
    }
   ],
   "source": [
    "triangulation = halfedge.HalfEdgeTriangulation.from_coords_and_simplices(coords, simplices)\n",
    "flat_trig = mc1999.McCartney1999Flattening(triangulation, Et=1e-2, delta=1e-4)\n",
    "flat_trig.flatten()\n",
    "coords_2d = [np.concatenate([vertex.coord_2d, [0.0]]) for vertex in triangulation.vertices]"
   ]
  },
  {
   "cell_type": "code",
   "execution_count": null,
   "metadata": {
    "collapsed": false
   },
   "outputs": [],
   "source": [
    "data2 = vis_utils.plotly_trisurf_3d(coords_2d, simplices)\n",
    "fig2 = Figure(data=data2, layout=vis_utils.DEFAULT_LAYOUT)\n",
    "py.iplot(fig2, filename='coord_simplex_triangulation_2d')"
   ]
  },
  {
   "cell_type": "code",
   "execution_count": null,
   "metadata": {
    "collapsed": true
   },
   "outputs": [],
   "source": []
  }
 ],
 "metadata": {
  "kernelspec": {
   "display_name": "Python 2",
   "language": "python",
   "name": "python2"
  },
  "language_info": {
   "codemirror_mode": {
    "name": "ipython",
    "version": 2
   },
   "file_extension": ".py",
   "mimetype": "text/x-python",
   "name": "python",
   "nbconvert_exporter": "python",
   "pygments_lexer": "ipython2",
   "version": "2.7.12"
  }
 },
 "nbformat": 4,
 "nbformat_minor": 2
}
