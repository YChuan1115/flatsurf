{
 "cells": [
  {
   "cell_type": "code",
   "execution_count": 13,
   "metadata": {
    "collapsed": false
   },
   "outputs": [
    {
     "name": "stdout",
     "output_type": "stream",
     "text": [
      "The autoreload extension is already loaded. To reload it, use:\n",
      "  %reload_ext autoreload\n"
     ]
    }
   ],
   "source": [
    "%load_ext autoreload\n",
    "%autoreload 2\n",
    "import flatsurf.halfedge as halfedge\n",
    "import flatsurf.mccartney1999 as mc1999\n",
    "import flatsurf.vis_utils as vis_utils\n",
    "\n",
    "import numpy as np\n",
    "\n",
    "import plotly.plotly as py\n",
    "from plotly.graph_objs import *\n",
    "\n",
    "from scipy.spatial import Delaunay"
   ]
  },
  {
   "cell_type": "code",
   "execution_count": 6,
   "metadata": {
    "collapsed": false
   },
   "outputs": [],
   "source": [
    "coords = [np.array([0., 0., 0.]), np.array([1., 1., 0.]),\n",
    "          np.array([0.5 - 0.5 / np.sqrt(2), 0.5 + 0.5 / np.sqrt(2), 0.5]), \n",
    "          np.array([0.5 + 0.5 / np.sqrt(2), 0.5 - 0.5 / np.sqrt(2), 0.5])]\n",
    "simplices = [[0, 1, 2], [0, 1, 3]]"
   ]
  },
  {
   "cell_type": "code",
   "execution_count": 9,
   "metadata": {
    "collapsed": false
   },
   "outputs": [
    {
     "data": {
      "text/html": [
       "<iframe id=\"igraph\" scrolling=\"no\" style=\"border:none;\" seamless=\"seamless\" src=\"https://plot.ly/~blondegeek/6.embed\" height=\"500px\" width=\"500px\"></iframe>"
      ],
      "text/plain": [
       "<plotly.tools.PlotlyDisplay object>"
      ]
     },
     "execution_count": 9,
     "metadata": {},
     "output_type": "execute_result"
    }
   ],
   "source": [
    "data1 = vis_utils.plotly_trisurf_3d(coords, simplices)\n",
    "fig1 = Figure(data=data1, layout=vis_utils.DEFAULT_LAYOUT)\n",
    "py.iplot(fig1, filename='coord_simplex_triangulation')"
   ]
  },
  {
   "cell_type": "code",
   "execution_count": 10,
   "metadata": {
    "collapsed": false
   },
   "outputs": [
    {
     "name": "stderr",
     "output_type": "stream",
     "text": [
      "/Users/tesssmidt/Dropbox/flatten_triangulations/env/src/flatsurf/flatsurf/mccartney1999.py:41: FutureWarning:\n",
      "\n",
      "comparison to `None` will result in an elementwise object comparison in the future.\n",
      "\n",
      "/Users/tesssmidt/Dropbox/flatten_triangulations/env/src/flatsurf/flatsurf/mccartney1999.py:65: FutureWarning:\n",
      "\n",
      "comparison to `None` will result in an elementwise object comparison in the future.\n",
      "\n"
     ]
    }
   ],
   "source": [
    "triangulation = halfedge.HalfEdgeTriangulation.from_coords_and_simplices(coords, simplices)\n",
    "flat_trig = mc1999.McCartney1999Flattening(triangulation, Et=1e-4, delta=1e-5)\n",
    "flat_trig.flatten()\n",
    "coords_2d = [np.concatenate([vertex.coord_2d, [0.0]]) for vertex in triangulation.vertices]"
   ]
  },
  {
   "cell_type": "code",
   "execution_count": 12,
   "metadata": {
    "collapsed": false
   },
   "outputs": [
    {
     "data": {
      "text/html": [
       "<iframe id=\"igraph\" scrolling=\"no\" style=\"border:none;\" seamless=\"seamless\" src=\"https://plot.ly/~blondegeek/8.embed\" height=\"500px\" width=\"500px\"></iframe>"
      ],
      "text/plain": [
       "<plotly.tools.PlotlyDisplay object>"
      ]
     },
     "execution_count": 12,
     "metadata": {},
     "output_type": "execute_result"
    }
   ],
   "source": [
    "data2 = vis_utils.plotly_trisurf_3d(coords_2d, simplices)\n",
    "fig2 = Figure(data=data2, layout=vis_utils.DEFAULT_LAYOUT)\n",
    "py.iplot(fig2, filename='coord_simplex_triangulation_2d')"
   ]
  },
  {
   "cell_type": "code",
   "execution_count": 14,
   "metadata": {
    "collapsed": true
   },
   "outputs": [],
   "source": [
    "u = np.linspace(0, np.pi, 4)\n",
    "v = np.linspace(0, np.pi/2.-1e-4, 3)\n",
    "\n",
    "u,v = np.meshgrid(u,v)\n",
    "u = u.flatten()\n",
    "v = v.flatten()\n",
    "\n",
    "x = np.cos(u)*np.cos(v)\n",
    "y = np.sin(u)*np.cos(v)\n",
    "z = np.sin(v)\n",
    "\n",
    "points2D = np.vstack([u,v]).T\n",
    "tri = Delaunay(points2D)"
   ]
  },
  {
   "cell_type": "code",
   "execution_count": 15,
   "metadata": {
    "collapsed": false
   },
   "outputs": [
    {
     "name": "stdout",
     "output_type": "stream",
     "text": [
      "12\n"
     ]
    }
   ],
   "source": [
    "coords = list(np.array(zip(x, y, z)))\n",
    "simplices = tri.simplices.tolist()\n",
    "print len(simplices)"
   ]
  },
  {
   "cell_type": "code",
   "execution_count": 17,
   "metadata": {
    "collapsed": false
   },
   "outputs": [
    {
     "data": {
      "text/html": [
       "<iframe id=\"igraph\" scrolling=\"no\" style=\"border:none;\" seamless=\"seamless\" src=\"https://plot.ly/~blondegeek/6.embed\" height=\"500px\" width=\"500px\"></iframe>"
      ],
      "text/plain": [
       "<plotly.tools.PlotlyDisplay object>"
      ]
     },
     "execution_count": 17,
     "metadata": {},
     "output_type": "execute_result"
    }
   ],
   "source": [
    "data3 = vis_utils.plotly_trisurf_3d(coords, simplices)\n",
    "fig3 = Figure(data=data3, layout=vis_utils.DEFAULT_LAYOUT)\n",
    "py.iplot(fig3, filename='coord_simplex_triangulation')"
   ]
  },
  {
   "cell_type": "code",
   "execution_count": 19,
   "metadata": {
    "collapsed": false
   },
   "outputs": [],
   "source": [
    "triangulation = halfedge.HalfEdgeTriangulation.from_coords_and_simplices(coords, simplices)\n",
    "flat_trig = mc1999.McCartney1999Flattening(triangulation, Et=1e-2, delta=1e-4)\n",
    "flat_trig.flatten()\n",
    "coords_2d = [np.concatenate([vertex.coord_2d, [0.0]]) for vertex in triangulation.vertices]"
   ]
  },
  {
   "cell_type": "code",
   "execution_count": 20,
   "metadata": {
    "collapsed": false
   },
   "outputs": [
    {
     "data": {
      "text/html": [
       "<iframe id=\"igraph\" scrolling=\"no\" style=\"border:none;\" seamless=\"seamless\" src=\"https://plot.ly/~blondegeek/8.embed\" height=\"500px\" width=\"500px\"></iframe>"
      ],
      "text/plain": [
       "<plotly.tools.PlotlyDisplay object>"
      ]
     },
     "execution_count": 20,
     "metadata": {},
     "output_type": "execute_result"
    }
   ],
   "source": [
    "data2 = vis_utils.plotly_trisurf_3d(coords_2d, simplices)\n",
    "fig2 = Figure(data=data2, layout=vis_utils.DEFAULT_LAYOUT)\n",
    "py.iplot(fig2, filename='coord_simplex_triangulation_2d')"
   ]
  },
  {
   "cell_type": "code",
   "execution_count": null,
   "metadata": {
    "collapsed": true
   },
   "outputs": [],
   "source": []
  }
 ],
 "metadata": {
  "kernelspec": {
   "display_name": "Python 2",
   "language": "python",
   "name": "python2"
  },
  "language_info": {
   "codemirror_mode": {
    "name": "ipython",
    "version": 2
   },
   "file_extension": ".py",
   "mimetype": "text/x-python",
   "name": "python",
   "nbconvert_exporter": "python",
   "pygments_lexer": "ipython2",
   "version": "2.7.12"
  }
 },
 "nbformat": 4,
 "nbformat_minor": 2
}
